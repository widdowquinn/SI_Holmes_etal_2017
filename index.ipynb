{
 "cells": [
  {
   "cell_type": "markdown",
   "metadata": {},
   "source": [
    "<img src=\"notebooks/images/JHI_STRAP_Web.png\" style=\"width: 150px; float: right;\">\n",
    "\n",
    "# `SI_Holmes_etal_2017` - index"
   ]
  },
  {
   "cell_type": "markdown",
   "metadata": {},
   "source": [
    "This repository contains files detailing the process of fitting the model of the enrichment array experiment described in [Holmes *et al.* (2017)](). These files are intended to enable independent reproduction, exploration and extension of the analysis reported in the paper.\n",
    "\n",
    "To encourage exploration and reproduction, we have tried to make these notebooks compatible, so far as is possible, with [MyBinder](http://mybinder.org/), to enable you to run them in the cloud without having to install software on your own machine. To use these notebooks, click on [this link](http://mybinder.org:/repo/widdowquinn/si_holmes_etal_2017), or the button below.\n",
    "\n",
    "[![Binder](http://mybinder.org/badge.svg)](http://mybinder.org:/repo/widdowquinn/si_holmes_etal_2017)"
   ]
  },
  {
   "cell_type": "markdown",
   "metadata": {},
   "source": [
    "## Table of Contents\n",
    "\n",
    "1. [Files and Directories](#files)\n",
    "  1. [How to get help](#help)\n",
    "2. [Quick Start](#quickstart)\n",
    "  1. [Use the notebooks](#use)\n",
    "3. [Replicating the manuscript model](#replicate)\n",
    "  1. [Data QA](#qa)\n",
    "  2. [Fitting the model](#fitting)\n",
    "  3. [Crossvalidation](#xval)"
   ]
  },
  {
   "cell_type": "markdown",
   "metadata": {},
   "source": [
    "## Quick links to notebooks\n",
    "\n",
    "* [`01-data_qa.ipynb`](notebooks/01-data_qa.ipynb) - Data QA and cleanup\n",
    "* [`02-full_model_fit.ipynb`](notebooks/02-full_model_fit.ipynb) - Model fitting\n",
    "* [`03-crossvalidation.ipynb`](notebooks/03-crossvalidation.ipynb) - Model crossvalidation\n",
    "* [`04-etpD.ipynb`](notebooks/04-etpD.ipynb) - etpD complementation results"
   ]
  },
  {
   "cell_type": "markdown",
   "metadata": {},
   "source": [
    "<a id=\"files\"></a>\n",
    "## Files and Directories\n",
    "\n",
    "\n",
    "* `data/`: directory containing the raw microarray data, and the genomic data used in the analysis\n",
    "* `models/`: directory containing Stan models in plan text format\n",
    "* `multiplexing/`: directory containing scripts used to generate multiplexed data for *k*-fold cross-validation, and to fit the cross-validation models\n",
    "* `notebooks/`: directory containing Jupyter notebooks describing and enabling reproduction of the data QA, model fitting and model validation\n",
    "* `requirements.txt`: file describing the Python dependencies of the notebooks and scripts, which can be used to create a virtual environment for replication of the analysis from the paper.\n",
    "* `LICENCE`: a copy of the MIT licence that governs the code contained in this repository\n",
    "* `README.md`: this file"
   ]
  },
  {
   "cell_type": "markdown",
   "metadata": {},
   "source": [
    "<a id=\"help\"></a>\n",
    "### How to get help for the code/analyses in this repository\n",
    "\n",
    "Please raise any issues at the GitHub issues page for this repository:\n",
    "\n",
    "* [GitHub issues page](https://github.com/widdowquinn/SI_Holmes_etal_2017/issues)"
   ]
  },
  {
   "cell_type": "markdown",
   "metadata": {},
   "source": [
    "<a id=\"quickstart\"></a>\n",
    "## Quick Start\n",
    "\n",
    "### Set up the environment\n",
    "\n",
    "We would like our analysis to be reproducible, and for this we recommend using a Python virtual environment to ensure compatibility of dependencies and to replicate the environment used for the analysis. The virtual environment separates installation of Python packages from your system Python installation, enabling the running of these analyses without interfering with the system Python.\n",
    "\n",
    "Using `pip` to install the required dependencies listed in `requirements.txt` should ensure that the code in this repository runs as expected.\n",
    "\n",
    "#### Create and start the virtual environment\n",
    "\n",
    "**NOTE:** You will need to have installed `virtualenv`[[*](http://docs.python-guide.org/en/latest/dev/virtualenvs/)] for your system.\n",
    "\n",
    "```bash\n",
    "virtualenv venv-SI_Holmes_2016 -p python3.6\n",
    "source venv-SI_Holmes_2016/bin/activate\n",
    "pip install -r requirements.txt\n",
    "```\n",
    "\n",
    "**Read more**\n",
    "\n",
    "* `virtualenv`: [The Hitchhiker's Guide to Python](http://docs.python-guide.org/en/latest/dev/virtualenvs/)\n",
    "* `pip`: [Installing Python Modules](https://docs.python.org/3/installing/)"
   ]
  },
  {
   "cell_type": "markdown",
   "metadata": {},
   "source": [
    "<a id=\"use\"></a>\n",
    "### Use the notebooks\n",
    "\n",
    "We have used the [Jupyter notebook](http://jupyter.org/) environment to facilitate [literate programming](https://en.wikipedia.org/wiki/Literate_programming), and to encourage exploration of and experimentation with the code and model. These notebooks have sections of explanatory text that are punctuated by code snippets. In the Jupyter notebook environment, all of these code snippets are editable and runnable.\n",
    "\n",
    "#### Start the notebook environment\n",
    "\n",
    "From the top level directory of this repository, start the Jupyter notebook server by issuing the command:\n",
    "\n",
    "```bash\n",
    "jupyter notebook\n",
    "```\n",
    "\n",
    "A new browser window or tab should open, containing the Jupyter homepage, which will show a listing of files and directories in the top level of the repository.\n",
    "\n",
    "**Read more**\n",
    "\n",
    "* `jupyter notebook`: [Quick-start guide](https://jupyter-notebook-beginner-guide.readthedocs.io/en/latest/)\n",
    "* `jupyter notebook`: [Tutorial](https://www.datacamp.com/community/tutorials/tutorial-jupyter-notebook)\n",
    "\n",
    "#### Opening the notebooks\n",
    "\n",
    "From the Jupyter homepage in your browser window, click on the link to the `notebooks/` subdirectory. Then click on the link for the notebook you wish to use. The selected notebook should then open in a new browser tab.\n",
    "\n",
    "When they were committed to the repository, the notebooks contained output from the original runs, so they can be read and understood without needing to rerun the models. If you would like to rerun/reproduce/modify these outputs, we recommend restarting the kernel and clearing all output before beginning. This can be done by clicking on `Kernel -> Restart & Clear Output`, in the notebook window.\n",
    "\n",
    "<a id=\"replicate\"></a>\n",
    "## Replicating the manuscript model\n",
    "\n",
    "To replicate the manuscript model from scratch: start the virtual environment, then run the notebooks and scripts as described below (remembering to use `Kernel -> Restart & Clear Output` in each notebook to remove the original/existing outputs):"
   ]
  },
  {
   "cell_type": "markdown",
   "metadata": {},
   "source": [
    "<a id=\"qa\"></a>\n",
    "### Data processing, QA and normalisation\n",
    "\n",
    "* `01-data_qa.ipynb`: this will take the input data from the `notebooks/data/` directory, and process it into the output files:\n",
    "  *  `notebooks/datasets/normalised_array_data.tab`: used for the full model fit, and to produce the multiplexed output datasets.\n",
    "  *  `reduced_probe_data.tab`: a subset of `notebooks/datasets/normalised_array_data.tab`, used for testing code\n",
    "  *  `reduced_locus_data.tab`: a subset of `notebooks/datasets/normalised_array_data.tab`, used for testing code"
   ]
  },
  {
   "cell_type": "markdown",
   "metadata": {},
   "source": [
    "<a id=\"fitting\"></a>\n",
    "### Fitting the model on the full dataset\n",
    "\n",
    "* `02-full_model_fit.ipynb`: this will fit the Stan model described in the notebook to the `notebooks/datasets/normalised_array_data.tab` processed data file, and conduct analyses to produce the final set of genes for which the estimated effect on enrichment due to passage (treatment) was positive, and render the figures used in the paper.\n",
    "\n",
    "**NOTE:** the complete fit takes between 5 and 9 hours on my laptop (2013 MacBook Pro, 2.8GHz i7 16GB RAM)."
   ]
  },
  {
   "cell_type": "markdown",
   "metadata": {},
   "source": [
    "<a id=\"xval\"></a>\n",
    "### 10-fold crossvalidation\n",
    "\n",
    "The crossvalidation dataset construction and model fit were conducted in the `multiplexing` directory, using Python scripts rather than Jupyter notebooks. To reproduce the dataset construction and fits, first change directory to `multiplexing`:\n",
    "\n",
    "```bash\n",
    "cd multiplexing\n",
    "```\n",
    "\n",
    "then build the input datasets with the `multiplex_data.py` script:\n",
    "\n",
    "```bash\n",
    "./multiplex_data.py -v -d ../notebooks/datasets/normalised_array_data.tab \\\n",
    "                    -k 10 -o 10-fold_CV --seed 123456789 \\\n",
    "                    -l 10-fold_CV_multiplex.log\n",
    "```\n",
    "\n",
    "This will create a new directory called `10-fold_CV`, containing one new subdirectory for each training/test split of the input dataset.\n",
    "\n",
    "Next, use the `run_multiplex_models.py` script to fit the Stan model to each of the multiplexed training/test sets.\n",
    "\n",
    "```bash\n",
    "./run_multiplex_models.py -v -i 10-fold_CV --script ./run_model.py \\\n",
    "                          --seed 123456789 \\\n",
    "                          -l 10-fold_CV_run_models.log\n",
    "```\n",
    "\n",
    "**NOTE:** the `run_multiplex_models.py` has a dependency on the [`pysge` module](https://github.com/widdowquinn/pysge) for submission of jobs to our local cluster. This is not included in the `requirements.txt` file, so the script will fail at this point. The command-lines that this script produces in the log file can, however, be copied for execution on any system available to you. If you happen to be running on a cluster with SGE scheduling, then installation of `pysge` in the virtual environment will enable use of the cluster to fit the multiplexed models.\n",
    "\n",
    "Finally, use the `join_multiplexed_data.py` script to combine prediction output from each of the 10 test sets into a single `.tab` file. This will contain predictions for each of the probes from the input dataset, using the model fit to the remaining training data.\n",
    "\n",
    "```bash\n",
    "./join_multiplexed_data.py -v -i 10-fold_CV -o 10-fold_CV.tab \\\n",
    "                           -l 10-fold_CV_join_data.log\n",
    "```\n",
    "\n",
    "The combined data produced in this way can then be used as input for the notebook `03-model_validation.ipynb`.\n",
    "\n",
    "* `03-model_validation.ipynb`: this will conduct analyses on the combined output from 10-fold crossvalidation on the input dataset in `normalised_array_data.tab`. These analyses estimate the ability of the model to predict unseen 'output' array intensities by training it on 90% of the data at any one time, and testing it on the remaining 10% of the dataset."
   ]
  },
  {
   "cell_type": "markdown",
   "metadata": {},
   "source": [
    "### NOTE: PRNG seeds\n",
    "\n",
    "All random processes in the model building and fitting can take a seed value for the pseudorandom number generator. For replication of the values in the paper, this seed should be set to `123456789` for all processes:\n",
    "\n",
    "* the seed used for the main Stan fit (in notebook `02-full_model_fit`)\n",
    "* the seed for splitting the input data into multiplexed sets (`multiplex_data.py`)\n",
    "* the seed used for the multiplexing Stan fits (`run_multiplex_models.py`)\n",
    "* the seed used for fitting *etpD* complementation results (`04-etpD.ipynb`)"
   ]
  }
 ],
 "metadata": {
  "kernelspec": {
   "display_name": "Python 3",
   "language": "python",
   "name": "python3"
  },
  "language_info": {
   "codemirror_mode": {
    "name": "ipython",
    "version": 3
   },
   "file_extension": ".py",
   "mimetype": "text/x-python",
   "name": "python",
   "nbconvert_exporter": "python",
   "pygments_lexer": "ipython3",
   "version": "3.6.10"
  }
 },
 "nbformat": 4,
 "nbformat_minor": 1
}
